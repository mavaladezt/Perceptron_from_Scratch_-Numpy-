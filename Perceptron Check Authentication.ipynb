{
 "cells": [
  {
   "cell_type": "markdown",
   "metadata": {},
   "source": [
    "### Perceptron for Banknotes/Checks Authentication \n"
   ]
  },
  {
   "cell_type": "markdown",
   "metadata": {},
   "source": [
    "#### Perceptron<br>\n",
    "Perceptron is a supervised learning binary classifier.\n",
    "In order to predict, perceptron first tries to find an hyperplane between the 2 sets of data. If the hyperplane exists the data can be easily classified."
   ]
  },
  {
   "cell_type": "markdown",
   "metadata": {},
   "source": [
    "The data was obtained from:<br>\n",
    "__Dua, D. and Graff, C. (2019). UCI Machine Learning Repository (https://archive.ics.uci.edu/ml/datasets/banknote+authentication). Irvine, CA: University of California, School of Information and Computer Science.__<br>\n",
    "\n",
    "Abstract: Data were extracted from images that were taken for the evaluation of an authentication procedure for banknotes.<br>\n",
    "\n",
    "Features:<br> \n",
    " 1. variance of Wavelet Transformed image (continuous)\n",
    " 2. skewness of Wavelet Transformed image (continuous)\n",
    " 3. curtosis of Wavelet Transformed image (continuous)\n",
    " 4. entropy of image (continuous)\n",
    " 5. class (integer)"
   ]
  },
  {
   "cell_type": "code",
   "execution_count": 106,
   "metadata": {},
   "outputs": [],
   "source": [
    "import pandas as pd\n",
    "import numpy as np\n",
    "import seaborn as sns"
   ]
  },
  {
   "cell_type": "markdown",
   "metadata": {},
   "source": [
    "#### Loading Data"
   ]
  },
  {
   "cell_type": "code",
   "execution_count": 107,
   "metadata": {},
   "outputs": [
    {
     "name": "stdout",
     "output_type": "stream",
     "text": [
      "(1372, 5)\n"
     ]
    }
   ],
   "source": [
    "#Importing the text file\n",
    "data=np.loadtxt('data_banknote_authentication.txt',delimiter=',')\n",
    "print(data.shape)"
   ]
  },
  {
   "cell_type": "code",
   "execution_count": 108,
   "metadata": {},
   "outputs": [
    {
     "name": "stdout",
     "output_type": "stream",
     "text": [
      "Boxplot of features:\n"
     ]
    },
    {
     "data": {
      "text/plain": [
       "<matplotlib.axes._subplots.AxesSubplot at 0x1a250cf940>"
      ]
     },
     "execution_count": 108,
     "metadata": {},
     "output_type": "execute_result"
    },
    {
     "data": {
      "image/png": "[encoded data removed]",
      "text/plain": [
       "<Figure size 432x288 with 1 Axes>"
      ]
     },
     "metadata": {
      "needs_background": "light"
     },
     "output_type": "display_data"
    }
   ],
   "source": [
    "print('Boxplot of features:')\n",
    "sns.boxplot(data=data[:,0:4])"
   ]
  },
  {
   "cell_type": "markdown",
   "metadata": {},
   "source": [
    "Since any variable seems to be way to different than the rest, I think I will be ok without normalizing the data."
   ]
  },
  {
   "cell_type": "markdown",
   "metadata": {},
   "source": [
    "#### Randomly Generated Train and Test Sets"
   ]
  },
  {
   "cell_type": "code",
   "execution_count": 109,
   "metadata": {},
   "outputs": [
    {
     "name": "stdout",
     "output_type": "stream",
     "text": [
      "Proportion of data used for training 0.706268221574344\n"
     ]
    }
   ],
   "source": [
    "random_column = np.array(np.random.rand(data.shape[0]))  #create random column so I can divide train/test sets\n",
    "data=np.concatenate((data,random_column.reshape(data.shape[0],1)),axis=1)  #add random values column to set\n",
    "train=data[data[:,5]<=.7]  #Aproximately 70% of the data will be used as training data\n",
    "test=data[data[:,5]>.7]    #rest will be testing data\n",
    "print(\"Proportion of data used for training\",train.shape[0]/data.shape[0])"
   ]
  },
  {
   "cell_type": "code",
   "execution_count": 110,
   "metadata": {},
   "outputs": [],
   "source": [
    "#Train features and y\n",
    "train=train[:,0:train.shape[1]-1]          #eliminate the random column, we don't need it anymore\n",
    "y_train=train[:,-1]                        #get y from dataset (which is now the lat column)\n",
    "y_train=np.where(y_train==0, -1, y_train)  #replace ceros for -1\n",
    "x_train=train[:,0:train.shape[1]-1]        #eliminating the y column, this is now our feature set\n",
    "\n",
    "#Test features and y. Same as above but with test set\n",
    "test=test[:,0:test.shape[1]-1]\n",
    "y_test=test[:,-1]\n",
    "y_test=np.where(y_test==0, -1, y_test)\n",
    "x_test=test[:,0:test.shape[1]-1]"
   ]
  },
  {
   "cell_type": "code",
   "execution_count": 111,
   "metadata": {},
   "outputs": [
    {
     "name": "stdout",
     "output_type": "stream",
     "text": [
      "train positives 427.0 \ttrain negatives 542.0\n",
      "test positives 183.0 \ttest negatives 220.0\n"
     ]
    }
   ],
   "source": [
    "#summary of positves and negatives in both datasets\n",
    "print('train positives',np.sum(y_train[y_train==1]),'\\ttrain negatives',-np.sum(y_train[y_train==-1]))\n",
    "print('test positives',np.sum(y_test[y_test==1]),'\\ttest negatives',-np.sum(y_test[y_test==-1]))"
   ]
  },
  {
   "cell_type": "code",
   "execution_count": 112,
   "metadata": {},
   "outputs": [],
   "source": [
    "def perceptron_update(x,y,w):\n",
    "    \"\"\"\n",
    "    Input:\n",
    "    x : input vector with features\n",
    "    y : labels (-1 or +1)\n",
    "    w : weight vector, same dimensions as x\n",
    "    Output:\n",
    "    w : updated weight vector\n",
    "    \"\"\"\n",
    "    w=w+x*y\n",
    "    return w"
   ]
  },
  {
   "cell_type": "code",
   "execution_count": 113,
   "metadata": {},
   "outputs": [],
   "source": [
    "def perceptron(xs,ys):\n",
    "    \"\"\"\n",
    "    Input:\n",
    "    xs : n input vectors of d dimensions (nxd)\n",
    "    ys : n labels (-1 or +1)\n",
    "    Output:\n",
    "    w : final weight vector (1xd)\n",
    "    b : bias term\n",
    "    \"\"\"\n",
    "    n, d = xs.shape     # so we have n input vectors, of d dimensions each\n",
    "    w = np.zeros(d)\n",
    "    b = 0.0\n",
    "    iteration=0         #will keep in max iterations in 100 but if there is an hyperplane it will find it way before\n",
    "    while iteration < 100:\n",
    "        m=0\n",
    "        for i in np.random.permutation(n):   #data has to be randomly loaded to prevent learning order too\n",
    "            if ( ( (xs[i]@w.T)+b ) * ys[i] )<=0:\n",
    "                w=perceptron_update(xs[i],ys[i],w)\n",
    "                b+=ys[i]\n",
    "                m+=1\n",
    "        iteration += 1\n",
    "        if m==0:\n",
    "            break\n",
    "    return w,b"
   ]
  },
  {
   "cell_type": "markdown",
   "metadata": {},
   "source": [
    "Now, we will be calculating the weights (vector) and bias and use it to predict y in test sample"
   ]
  },
  {
   "cell_type": "code",
   "execution_count": 114,
   "metadata": {},
   "outputs": [],
   "source": [
    "#Final weight vector and bias\n",
    "weights,bias=perceptron(x_train,y_train)"
   ]
  },
  {
   "cell_type": "code",
   "execution_count": 115,
   "metadata": {},
   "outputs": [],
   "source": [
    "def perceptron_classify(xs,w,b=None):\n",
    "    \"\"\"\n",
    "    Make predictions with a linear classifier\n",
    "    Input:\n",
    "    xs : n input vectors of d dimensions (nxd) [could also be a single vector of d dimensions]\n",
    "    w : weight vector of dimensionality d\n",
    "    b : bias (scalar)\n",
    "    Output:\n",
    "    preds: predictions (1xn)\n",
    "    \"\"\"\n",
    "    w = w.flatten()\n",
    "    predictions=np.zeros(xs.shape[0])\n",
    "    if b==None:\n",
    "        b=0\n",
    "    for i in range(xs.shape[0]):\n",
    "        if (w.T@xs[i]+b)>=0:\n",
    "            predictions[i]=1\n",
    "        else:\n",
    "            predictions[i]=-1\n",
    "    return predictions"
   ]
  },
  {
   "cell_type": "markdown",
   "metadata": {},
   "source": [
    "#### Prediction"
   ]
  },
  {
   "cell_type": "code",
   "execution_count": 116,
   "metadata": {},
   "outputs": [
    {
     "name": "stdout",
     "output_type": "stream",
     "text": [
      "[-1. -1. -1. -1. -1. -1. -1. -1. -1. -1. -1. -1. -1. -1. -1. -1. -1. -1.\n",
      " -1. -1. -1. -1. -1. -1. -1. -1. -1. -1. -1. -1. -1. -1. -1. -1. -1. -1.\n",
      " -1. -1. -1. -1. -1. -1. -1. -1. -1. -1. -1. -1. -1. -1. -1. -1. -1. -1.\n",
      " -1. -1. -1. -1. -1. -1. -1. -1. -1. -1. -1. -1. -1. -1. -1. -1. -1. -1.\n",
      " -1. -1. -1. -1. -1. -1. -1. -1. -1. -1. -1. -1. -1. -1. -1. -1. -1. -1.\n",
      " -1. -1. -1. -1. -1. -1. -1. -1. -1. -1. -1. -1. -1. -1. -1. -1. -1. -1.\n",
      " -1. -1. -1. -1. -1. -1. -1. -1. -1. -1. -1. -1. -1. -1. -1. -1. -1. -1.\n",
      " -1. -1. -1. -1. -1. -1. -1. -1. -1. -1. -1. -1. -1. -1. -1. -1. -1. -1.\n",
      " -1. -1. -1. -1. -1. -1. -1. -1. -1. -1. -1. -1. -1. -1. -1. -1. -1. -1.\n",
      " -1. -1. -1. -1. -1. -1. -1. -1. -1. -1. -1. -1. -1. -1. -1. -1. -1. -1.\n",
      " -1. -1. -1. -1. -1. -1. -1. -1. -1. -1. -1. -1. -1. -1. -1. -1. -1. -1.\n",
      " -1. -1. -1. -1. -1. -1. -1. -1. -1. -1. -1. -1. -1. -1. -1. -1. -1. -1.\n",
      " -1. -1. -1. -1.  1.  1.  1.  1.  1.  1.  1.  1.  1.  1.  1.  1.  1.  1.\n",
      "  1.  1.  1.  1.  1.  1.  1.  1.  1.  1.  1.  1.  1.  1.  1.  1.  1.  1.\n",
      "  1.  1.  1.  1.  1.  1.  1.  1.  1.  1.  1.  1.  1.  1.  1.  1.  1.  1.\n",
      "  1.  1.  1.  1.  1.  1.  1.  1.  1.  1.  1.  1.  1.  1.  1.  1.  1.  1.\n",
      "  1.  1.  1.  1.  1.  1.  1.  1.  1.  1.  1.  1.  1.  1.  1.  1.  1.  1.\n",
      "  1.  1.  1.  1.  1.  1.  1.  1.  1.  1.  1.  1.  1.  1.  1.  1.  1. -1.\n",
      "  1.  1.  1.  1.  1.  1.  1.  1.  1.  1.  1.  1.  1.  1.  1.  1.  1.  1.\n",
      "  1.  1.  1.  1.  1.  1.  1.  1.  1.  1.  1.  1.  1.  1.  1.  1.  1.  1.\n",
      "  1.  1.  1.  1.  1.  1.  1.  1.  1.  1.  1.  1.  1.  1.  1.  1.  1.  1.\n",
      "  1.  1.  1.  1.  1.  1.  1.  1.  1.  1.  1.  1.  1.  1.  1.  1.  1.  1.\n",
      "  1.  1.  1.  1.  1.  1.  1.]\n"
     ]
    }
   ],
   "source": [
    "print(perceptron_classify(x_test,weights,bias))"
   ]
  },
  {
   "cell_type": "markdown",
   "metadata": {},
   "source": [
    "#### Accuracy of the model"
   ]
  },
  {
   "cell_type": "code",
   "execution_count": 117,
   "metadata": {},
   "outputs": [
    {
     "name": "stdout",
     "output_type": "stream",
     "text": [
      "Accuracy:  0.9975186104218362\n"
     ]
    }
   ],
   "source": [
    "print('Accuracy: ',np.sum(classify_linear(x_test,weights,bias)==y_test)/y_test.shape[0])"
   ]
  },
  {
   "cell_type": "markdown",
   "metadata": {},
   "source": [
    "#### Summary\n",
    "Perceptron works perfectly when it is easy to separate the positives from the negatives and all features have equal weight. In some cases normalizing data is necessary in order to prevent one variable having more weight than the rest."
   ]
  }
 ],
 "metadata": {
  "kernelspec": {
   "display_name": "Python 3",
   "language": "python",
   "name": "python3"
  },
  "language_info": {
   "codemirror_mode": {
    "name": "ipython",
    "version": 3
   },
   "file_extension": ".py",
   "mimetype": "text/x-python",
   "name": "python",
   "nbconvert_exporter": "python",
   "pygments_lexer": "ipython3",
   "version": "3.7.3"
  }
 },
 "nbformat": 4,
 "nbformat_minor": 2
}
